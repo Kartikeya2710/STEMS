{
  "nbformat": 4,
  "nbformat_minor": 0,
  "metadata": {
    "colab": {
      "provenance": [],
      "authorship_tag": "ABX9TyM11RpB6gQDPyxAzJetfe2m",
      "include_colab_link": true
    },
    "kernelspec": {
      "name": "python3",
      "display_name": "Python 3"
    },
    "language_info": {
      "name": "python"
    }
  },
  "cells": [
    {
      "cell_type": "markdown",
      "metadata": {
        "id": "view-in-github",
        "colab_type": "text"
      },
      "source": [
        "<a href=\"https://colab.research.google.com/github/Kartikeya2710/STEMS/blob/main/Throughput.ipynb\" target=\"_parent\"><img src=\"https://colab.research.google.com/assets/colab-badge.svg\" alt=\"Open In Colab\"/></a>"
      ]
    },
    {
      "cell_type": "code",
      "source": [
        "!pip install traci"
      ],
      "metadata": {
        "colab": {
          "base_uri": "https://localhost:8080/"
        },
        "id": "6RkBGy4reZdr",
        "outputId": "2fe95314-2335-4c6b-9b27-e44b5a84e6a3"
      },
      "execution_count": 3,
      "outputs": [
        {
          "output_type": "stream",
          "name": "stdout",
          "text": [
            "Looking in indexes: https://pypi.org/simple, https://us-python.pkg.dev/colab-wheels/public/simple/\n",
            "Collecting traci\n",
            "  Downloading traci-1.14.1-py3-none-any.whl (259 kB)\n",
            "\u001b[K     |████████████████████████████████| 259 kB 4.8 MB/s \n",
            "\u001b[?25hCollecting sumolib>=1.14.1\n",
            "  Downloading sumolib-1.14.1-py3-none-any.whl (143 kB)\n",
            "\u001b[K     |████████████████████████████████| 143 kB 43.4 MB/s \n",
            "\u001b[?25hInstalling collected packages: sumolib, traci\n",
            "Successfully installed sumolib-1.14.1 traci-1.14.1\n"
          ]
        }
      ]
    },
    {
      "cell_type": "code",
      "execution_count": 5,
      "metadata": {
        "id": "mqas6N-ZeASg"
      },
      "outputs": [],
      "source": [
        "def throughput():\n",
        "    #storing the lane IDs\n",
        "    laneId= traci.lane.getIDList()\n",
        "    \n",
        "    intersection_throu = []\n",
        "    \n",
        "    #finding the thoughput for each lane and storing it in an array\n",
        "    for lane in laneId:\n",
        "      #searching the throughput for each lane\n",
        "      throughput = traci.lane.GetLastStepVehicleNumber(lane)\n",
        "      #appending it to the array to find the throughput\n",
        "      intersection_throu.append(throughput)\n",
        "    return intersection_throu"
      ]
    }
  ]
}